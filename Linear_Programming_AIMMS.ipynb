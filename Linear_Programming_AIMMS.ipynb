{
  "cells": [
    {
      "cell_type": "code",
      "execution_count": null,
      "metadata": {
        "id": "uZbVUhbgyMZf"
      },
      "outputs": [],
      "source": [
        "!pip install pulp\n",
        "from pulp import *\n",
        "import pandas as pd\n",
        "import numpy as np"
      ]
    },
    {
      "cell_type": "code",
      "execution_count": null,
      "metadata": {
        "id": "Dsv40CNCzVOP"
      },
      "outputs": [],
      "source": [
        "amount = 140\n",
        "surgeries = [x for x in range(0,amount)]\n",
        "block_numbers = [x for x in range(0,32)]\n",
        "positions = [x for x in range(0,15)]\n",
        "blocks = {\n",
        "            0:{\"category\":1,\"day\":1},\n",
        "            1:{\"category\":2,\"day\":1},\n",
        "            2:{\"category\":3,\"day\":1},\n",
        "            3:{\"category\":4,\"day\":1},\n",
        "            4:{\"category\":5,\"day\":1},\n",
        "            5:{\"category\":2,\"day\":1},\n",
        "            6:{\"category\":5,\"day\":1},\n",
        "            7:{\"category\":1,\"day\":2},\n",
        "            8:{\"category\":3,\"day\":2},\n",
        "            9:{\"category\":3,\"day\":2},\n",
        "            10:{\"category\":4,\"day\":2},\n",
        "            11:{\"category\":4,\"day\":2},\n",
        "            12:{\"category\":5,\"day\":2},\n",
        "            13:{\"category\":1,\"day\":3},\n",
        "            14:{\"category\":1,\"day\":3},\n",
        "            15:{\"category\":2,\"day\":3},\n",
        "            16:{\"category\":6,\"day\":3},\n",
        "            17:{\"category\":4,\"day\":3},\n",
        "            18:{\"category\":4,\"day\":3},\n",
        "            19:{\"category\":5,\"day\":3},\n",
        "            20:{\"category\":3,\"day\":3},\n",
        "            21:{\"category\":1,\"day\":4},\n",
        "            22:{\"category\":3,\"day\":4},\n",
        "            23:{\"category\":4,\"day\":4},\n",
        "            24:{\"category\":4,\"day\":4},\n",
        "            25:{\"category\":5,\"day\":4},\n",
        "            26:{\"category\":1,\"day\":5},\n",
        "            27:{\"category\":2,\"day\":5},\n",
        "            28:{\"category\":3,\"day\":5},\n",
        "            29:{\"category\":4,\"day\":5},\n",
        "            30:{\"category\":5,\"day\":5},\n",
        "            31:{\"category\":2,\"day\":5},   \n",
        "        }\n",
        "def create_ops(number_of_surgeries):\n",
        "  op_informations = {\n",
        "                  1:{\"mean\":132,\"std\":76,\"ratio\":0.18},\n",
        "                  2:{\"mean\":99,\"std\":53,\"ratio\":0.14},\n",
        "                  3:{\"mean\":142,\"std\":58,\"ratio\":0.17},\n",
        "                  4:{\"mean\":78,\"std\":52,\"ratio\":0.28},\n",
        "                  5:{\"mean\":72,\"std\":38,\"ratio\":0.18},\n",
        "                  6:{\"mean\":75,\"std\":72,\"ratio\":0.05}\n",
        "              }\n",
        "  surgery_blocks_for_surgery = {}\n",
        "  duration_of_surgery = {}\n",
        "  last_element = 0\n",
        "  for op in range(1,7):\n",
        "    amount_of_category = round(amount*op_informations[op][\"ratio\"])\n",
        "    for x in range(last_element,last_element+amount_of_category):\n",
        "      if last_element>=amount:\n",
        "        continue\n",
        "      length_of_Op = np.random.normal(op_informations[op][\"mean\"],op_informations[op][\"std\"],amount_of_category)\n",
        "      duration_of_surgery[last_element] = int(abs(length_of_Op[x-last_element]))\n",
        "      selectable_blocks = [key for key in blocks.keys() if blocks[key][\"category\"] == op]\n",
        "      surgery_blocks_for_surgery[last_element] = selectable_blocks\n",
        "      last_element +=1\n",
        "  return duration_of_surgery, surgery_blocks_for_surgery\n",
        "\n",
        "duration_of_surgeries, block_for_surgery = create_ops(len(surgeries))\n",
        "duration_of_surgeries"
      ]
    },
    {
      "cell_type": "code",
      "source": [
        "import random\n",
        "def create_emergencies(number_of_scenarios):\n",
        "  emergencies = {}\n",
        "  blocks_for_emergencies = {}\n",
        "  for scenario in range(number_of_scenarios):\n",
        "    emergencies[scenario] = {}\n",
        "    blocks_for_emergencies[scenario] = {}\n",
        "    counter=0\n",
        "    for day in range(1,6):\n",
        "      number_of_emergencies = random.randint(1, 3)\n",
        "      for em in range(number_of_emergencies):\n",
        "        emergencies[scenario][counter] = random.randint(60,180)\n",
        "        blocks_for_emergencies[scenario][counter] = [_ for _ in blocks if blocks[_][\"day\"]==day]\n",
        "        counter +=1\n",
        "  return emergencies, blocks_for_emergencies\n",
        "\n",
        "emergencies,blocks_for_emergencies = create_emergencies(2)    \n"
      ],
      "metadata": {
        "id": "KsbJHaSArlWi"
      },
      "execution_count": null,
      "outputs": []
    },
    {
      "cell_type": "code",
      "source": [
        "prob = LpProblem(\"operationPlan\",LpMinimize)"
      ],
      "metadata": {
        "id": "xrqprlgFQTkF"
      },
      "execution_count": null,
      "outputs": []
    },
    {
      "cell_type": "code",
      "execution_count": null,
      "metadata": {
        "id": "3-rVT1YVrFwV"
      },
      "outputs": [],
      "source": [
        "set_surgery = LpVariable.dicts(\"y_ibp\",[(i,b,p) for i in surgeries for b in block_for_surgery[i] for p in positions],cat=\"Binary\")\n",
        "preschdeuled_Start = LpVariable.dicts(\"t_bp\",(block_numbers,positions),lowBound=0)\n",
        "emergencySet = LpVariable.dicts(\"zS_ebp\",[(s,e,b,p) for s in emergencies.keys() for e in emergencies[s] for b in blocks_for_emergencies[s][e] for p in positions],cat=\"Binary\")\n",
        "surgery_canceled = LpVariable.dicts(\"xs_ibp\", [(s,i,b,p) for s in emergencies.keys() for i in surgeries for b in block_for_surgery[i] for p in positions],cat=\"Binary\")\n",
        "actual_start =  LpVariable.dicts(\"t_hat_s_bp\",(emergencies.keys(),block_numbers,positions),lowBound=0)\n",
        "waiting_time = LpVariable.dicts(\"ws_i\",[(s,i) for s in emergencies.keys() for i in surgeries],lowBound=0)\n",
        "overtime = LpVariable.dicts(\"os_b\",[(s,b) for s in emergencies.keys() for b in blocks.keys()],lowBound=0)\n",
        "idle_time =  LpVariable.dicts(\"gs_b\",[(s,b) for s in emergencies.keys() for b in blocks.keys()],lowBound=0)"
      ]
    },
    {
      "cell_type": "code",
      "source": [
        "prob += lpSum([1*set_surgery[(i,b,p)] for i in surgeries for b in block_for_surgery[i] for p in positions]) + lpSum([100*(1-lpSum([set_surgery[(i,b,p)] for b in block_for_surgery[i] for p in positions])) for i in surgeries]) + (1/len(emergencies.keys()) * lpSum([(lpSum([2*overtime[(s,b)]+ 0.5 *idle_time[(s,b)] for b in block_numbers]) + lpSum([1*waiting_time[(s,i)]+(300*lpSum([surgery_canceled[(s,i,b,p)] for b in block_for_surgery[i] for p in positions]))for i in surgeries])) for s in emergencies.keys()]))"
      ],
      "metadata": {
        "id": "4WsaEZuY_zJT"
      },
      "execution_count": null,
      "outputs": []
    },
    {
      "cell_type": "code",
      "source": [
        "\n",
        "#constraints\n",
        "M = 9999999\n",
        "#2\n",
        "for i in surgeries:\n",
        "  prob += (lpSum([set_surgery[(i,b,p)]for b in block_for_surgery[i] for p in positions]) <= 1,f\"2_{i}\")\n",
        "#3\n",
        "for b in block_numbers:\n",
        "  for p in positions:\n",
        "    prob += (lpSum([set_surgery[(i,b,p)] for i in surgeries if b in block_for_surgery[i]]) <=1,f\"3_{b}_{p}\")\n",
        "#4\n",
        "for s in emergencies.keys():\n",
        "  for e in emergencies[s]:\n",
        "    prob += (lpSum([emergencySet[(s,e,b,p)] for b in blocks_for_emergencies[s][e] for p in positions]) == 1,f\"4_{s}_{e}\")\n",
        "#5\n",
        "for b in block_numbers:\n",
        "  for p in positions:\n",
        "    for s in emergencies.keys():\n",
        "      prob +=( actual_start[s][b][p] >= preschdeuled_Start[b][p],f\"5_{b}_{p}_{s}\")\n",
        "#6\n",
        "for b in block_numbers:\n",
        "  for s in emergencies.keys():\n",
        "    for p in positions:\n",
        "      if p!=0:\n",
        "        prob += (actual_start[s][b][p] >= actual_start[s][b][p-1] + lpSum([duration_of_surgeries[i]*(set_surgery[(i,b,p-1)]-surgery_canceled[(s,i,b,p-1)]) for i in surgeries if b in block_for_surgery[i]]) + lpSum([emergencies[s][e]* emergencySet[(s,e,b,p)] for e in blocks_for_emergencies[s].keys() if b in blocks_for_emergencies[s][e]] ),f\"6_{b}_{s}_{p}\")\n",
        "#7\n",
        "for b in block_numbers:\n",
        "  for s in emergencies.keys():\n",
        "    prob += (actual_start[s][b][0] >= lpSum([emergencies[s][e] * emergencySet[(s,e,b,0)] for e in emergencies[s].keys() if b in blocks_for_emergencies[s][e]]),f\"7_{b}_{s}\")\n",
        "#8\n",
        "for i in surgeries:\n",
        "  for b in block_for_surgery[i]:\n",
        "    for p in positions:\n",
        "      for s in emergencies.keys():\n",
        "        prob += (waiting_time[(s,i)] >= actual_start[s][b][p] - preschdeuled_Start[b][p] - M * (1-(set_surgery[(i,b,p)] - surgery_canceled[(s,i,b,p)])),f\"8_{i}_{b}_{p}_{s}\")\n",
        "#9\n",
        "for b in block_numbers:\n",
        "  for s in emergencies.keys():\n",
        "    prob += (idle_time[(s,b)] == lpSum([actual_start[s][b][p] - (actual_start[s][b][p-1] + lpSum([duration_of_surgeries[i]*(set_surgery[(i,b,p-1)]- surgery_canceled[(s,i,b,p-1)]) for i in surgeries if b in block_for_surgery[i]]) + lpSum([ emergencies[s][e] * emergencySet[(s,e,b,p)] for e in emergencies[s] if b in blocks_for_emergencies[s][e]]))for p in range(1,len(positions)) ]),f\"9_{b}_{s}\")\n",
        "\n",
        "#10\n",
        "for b in block_numbers:\n",
        "  for s in emergencies.keys():\n",
        "    prob += (0>= (actual_start[s][b][len(positions)-1] + lpSum([duration_of_surgeries[i]*(set_surgery[(i,b,len(positions)-1)]-surgery_canceled[(s,i,b,len(positions)-1)])for i in surgeries if b in block_for_surgery[i]]) + lpSum([emergencies[s][e] * emergencySet[(s,e,b,len(positions)-1)] for e in emergencies[s] if b in  blocks_for_emergencies[s][e] ]))-480,f\"10_{b}_{s}\")\n",
        "\n",
        "#11\n",
        "for i in surgeries:\n",
        "  for b in block_for_surgery[i]:\n",
        "    for p in positions:\n",
        "      prob+= (lpSum([surgery_canceled[(s,i,b,p)] for s in emergencies.keys()]) <= len(emergencies.keys()) * set_surgery[(i,b,p)],f\"11_{i}_{b}_{p}\")\n",
        "\n",
        "for b in block_numbers:\n",
        "  for p in positions:\n",
        "    if p>0:\n",
        "      prob += (preschdeuled_Start[b][p] == preschdeuled_Start[b][p-1] + lpSum([duration_of_surgeries[i]*(set_surgery[(i,b,p-1)] - surgery_canceled[(s,i,b,p-1)]) for i in surgeries if b in block_for_surgery[i]]),f\"12_own_{b}_{p}\")\n",
        "\n",
        "for b in block_numbers:\n",
        "    prob+= (preschdeuled_Start[b][0] ==0)\n"
      ],
      "metadata": {
        "id": "Ms01Byf1huMO"
      },
      "execution_count": null,
      "outputs": []
    },
    {
      "cell_type": "code",
      "source": [
        "prob.solve(PULP_CBC_CMD(msg=True, timeLimit=1200))"
      ],
      "metadata": {
        "id": "501NNcNX7AJl"
      },
      "execution_count": null,
      "outputs": []
    },
    {
      "cell_type": "markdown",
      "source": [
        "Export"
      ],
      "metadata": {
        "id": "EfuDnzG5pFKo"
      }
    },
    {
      "cell_type": "code",
      "source": [
        "print(\"Status:\", LpStatus[prob.status])\n",
        "count = 0 \n",
        "names = []\n",
        "print()\n",
        "for v in prob.variables():\n",
        "      if v.varValue != 0 and \"y_ibp_(\" in v.name:\n",
        "        names.append(v.name)\n",
        "        count+=1\n",
        "        print(count)\n",
        "        #v.fixValue()\n",
        "        print(v.name, \"=\", v.varValue)\n",
        "\n",
        "names.sort()\n",
        "print(names)\n",
        "\n",
        "\n",
        "print(\"Status:\", LpStatus[prob.status])\n",
        "count = 0 \n",
        "em = []\n",
        "print(prob.variables()[1])\n",
        "for v in prob.variables():\n",
        "      if v.varValue != 0 and \"z\" in v.name:\n",
        "        em.append(v)\n",
        "        count+=1\n",
        "        print(count)\n",
        "        #v.fixValue()\n",
        "        print(v.name, \"=\", v.varValue)"
      ],
      "metadata": {
        "id": "qhXnDZSF7NMS"
      },
      "execution_count": null,
      "outputs": []
    },
    {
      "cell_type": "code",
      "source": [
        "import re\n",
        "table = pd.DataFrame(np.full((15,32),\"-1\"))\n",
        "table\n",
        "for b in range(0,32):\n",
        "  for p in range(0,15):\n",
        "    for i in range(0,140):\n",
        "      for _ in names:\n",
        "        if f\"y_ibp_({i},_{b},_{p})\" == _ :\n",
        "          for v in prob.variables():\n",
        "            if f\"t_hat_s_bp_0_{b}_{p}\" == v.name:\n",
        "              print(table.loc[p,b])\n",
        "              if table.loc[p,b] != \"-1\":\n",
        "                print(\"!\")\n",
        "                table.at[p,b] =table.loc[p,b]+ \" | \"+ str(i) + \"  \" +str(int(v.varValue))\n",
        "              else:\n",
        "                table.at[p,b] = str(i) + \"  \" +str(int(v.varValue))\n",
        "              #print(p, \"  \",b ,\"  \", i)\n",
        "              #table.at[p,b] = str(i) + \"  \" +str(int(v.varValue))\n",
        "    for e in emergencies[0].keys():\n",
        "      for v in em:\n",
        "        if f\"zS_ebp_(0,_{e},_{b},_{p})\" == v.name:\n",
        "          for v_ in prob.variables():\n",
        "            if f\"t_hat_s_bp_0_{b}_{p}\" == v_.name:\n",
        "              print(\"table.loc[p,b]\")\n",
        "              if table.loc[p,b] != \"-1\":\n",
        "                print(\"!\")\n",
        "                table.at[p,b] = table.loc[p,b]+\"|  z \"+str(e) + \" (\"+ str(int(v_.varValue)) + \"  \"+ v_.name +\") \" +str(int(v_.varValue)- emergencies[0][e])\n",
        "              else:\n",
        "                table.at[p,b] = \"z \"+str(e) + \"  \" +\" (\"+str(int(v_.varValue))+ \"  \"+v_.name+\") \"+str(int(v_.varValue)- emergencies[0][e])"
      ],
      "metadata": {
        "id": "qfcA6W6JWOB9"
      },
      "execution_count": null,
      "outputs": []
    },
    {
      "cell_type": "code",
      "source": [
        "table"
      ],
      "metadata": {
        "id": "9voMZVYCpYZE"
      },
      "execution_count": null,
      "outputs": []
    },
    {
      "cell_type": "code",
      "source": [
        "table.to_csv(\"ex.csv\")"
      ],
      "metadata": {
        "id": "S2IyBVYocMWL"
      },
      "execution_count": null,
      "outputs": []
    },
    {
      "cell_type": "markdown",
      "source": [
        "Kennzahlen\n"
      ],
      "metadata": {
        "id": "bEPVpr3LpKfM"
      }
    },
    {
      "cell_type": "code",
      "source": [
        "#gesamte zeit\n",
        "sum(duration_of_surgeries.values()) +(sum(emergencies[0].values()) +sum(emergencies[1].values()))/2 "
      ],
      "metadata": {
        "colab": {
          "base_uri": "https://localhost:8080/"
        },
        "id": "aO1yCJglJk1A",
        "outputId": "ae92ce55-7a93-497c-e732-a6866764a9e1"
      },
      "execution_count": null,
      "outputs": [
        {
          "output_type": "execute_result",
          "data": {
            "text/plain": [
              "14612.5"
            ]
          },
          "metadata": {},
          "execution_count": 23
        }
      ]
    },
    {
      "cell_type": "code",
      "source": [
        "# notfälle\n",
        "count =0\n",
        "duration_added_emergencies = 0\n",
        "print(\"Status:\", LpStatus[prob.status])\n",
        "for v in prob.variables():\n",
        "       if v.varValue !=0 and \"zS_ebp\" in v.name:\n",
        "          duration_added_emergencies += emergencies[int(re.findall(r'\\d{1,2}',v.name)[0])][int(re.findall(r'\\d{1,2}',v.name)[1])]\n",
        "          print(v.name, \"=\", v.varValue)\n",
        "          count += 1\n",
        "print(count)\n",
        "print(duration_added_emergencies/2)"
      ],
      "metadata": {
        "id": "Wi4TeOUwJkyt"
      },
      "execution_count": null,
      "outputs": []
    },
    {
      "cell_type": "code",
      "source": [
        "# Cancell\n",
        "count =0\n",
        "print(\"Status:\", LpStatus[prob.status])\n",
        "for v in prob.variables():\n",
        "       if v.varValue !=0 and \"xs_ibp\" in v.name:\n",
        "          print(v.name, \"=\", v.varValue)\n",
        "          count+=1\n",
        "print(count)"
      ],
      "metadata": {
        "id": "wQ2vRwU5Jkur"
      },
      "execution_count": null,
      "outputs": []
    },
    {
      "cell_type": "code",
      "source": [
        "# Operationen\n",
        "print(\"Status:\", LpStatus[prob.status])\n",
        "duration_added_surg = 0\n",
        "count = 0\n",
        "for v in prob.variables():\n",
        "       if v.varValue !=0 and \"y_ibp\" in v.name:\n",
        "          duration_added_surg += duration_of_surgeries[int(re.findall(r'\\d{1,2}',v.name)[0])]\n",
        "          print(v.name, \"=\", v.varValue)\n",
        "          count +=1\n",
        "print(count)\n",
        "print(duration_added_surg)"
      ],
      "metadata": {
        "id": "6ipko5QSJkfa"
      },
      "execution_count": null,
      "outputs": []
    },
    {
      "cell_type": "code",
      "source": [
        "# Wartezeit\n",
        "count = 0\n",
        "print(\"Status:\", LpStatus[prob.status])\n",
        "for v in prob.variables():\n",
        "       if v.varValue !=0 and \"wi_s\" in v.name:\n",
        "          print(v.name, \"=\", v.varValue)\n",
        "          count +=1\n",
        "print(count)"
      ],
      "metadata": {
        "id": "QnZgw6L5RW9c"
      },
      "execution_count": null,
      "outputs": []
    },
    {
      "cell_type": "code",
      "source": [
        "duration_added_emergencies/2 + duration_added_surg"
      ],
      "metadata": {
        "id": "9ehRFf2-RgIS"
      },
      "execution_count": null,
      "outputs": []
    }
  ],
  "metadata": {
    "colab": {
      "provenance": [],
      "collapsed_sections": [],
      "machine_shape": "hm"
    },
    "kernelspec": {
      "display_name": "Python 3",
      "name": "python3"
    },
    "language_info": {
      "name": "python"
    },
    "accelerator": "TPU"
  },
  "nbformat": 4,
  "nbformat_minor": 0
}